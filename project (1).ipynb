{
 "cells": [
  {
   "cell_type": "markdown",
   "metadata": {},
   "source": [
    "# Text Translation and Sentiment Analysis using Transformers"
   ]
  },
  {
   "cell_type": "markdown",
   "metadata": {},
   "source": [
    "## Project Overview:\n",
    "\n",
    "The objective of this project is to analyze the sentiment of movie reviews in three different languages - English, French, and Spanish. We have been given 30 movies, 10 in each language, along with their reviews and synopses in separate CSV files named `movie_reviews_eng.csv`, `movie_reviews_fr.csv`, and `movie_reviews_sp.csv`.\n",
    "\n",
    "- The first step of this project is to convert the French and Spanish reviews and synopses into English. This will allow us to analyze the sentiment of all reviews in the same language. We will be using pre-trained transformers from HuggingFace to achieve this task.\n",
    "\n",
    "- Once the translations are complete, we will create a single dataframe that contains all the movies along with their reviews, synopses, and year of release in all three languages. This dataframe will be used to perform sentiment analysis on the reviews of each movie.\n",
    "\n",
    "- Finally, we will use pretrained transformers from HuggingFace to analyze the sentiment of each review. The sentiment analysis results will be added to the dataframe. The final dataframe will have 30 rows\n",
    "\n",
    "\n",
    "The output of the project will be a CSV file with a header row that includes column names such as **Title**, **Year**, **Synopsis**, **Review**, **Review Sentiment**, and **Original Language**. The **Original Language** column will indicate the language of the review and synopsis (*en/fr/sp*) before translation. The dataframe will consist of 30 rows, with each row corresponding to a movie."
   ]
  },
  {
   "cell_type": "code",
   "execution_count": 1,
   "metadata": {},
   "outputs": [],
   "source": [
    "#! pip install diffusers transformers accelerate\n",
    "\n",
    "#! pip install diffusers\n",
    "#! conda install -c huggingface transformers==4.14.1 tokenizers==0.10.3 -y"
   ]
  },
  {
   "cell_type": "code",
   "execution_count": 2,
   "metadata": {},
   "outputs": [
    {
     "ename": "ImportError",
     "evalue": "cannot import name 'CLIPImageProcessor' from 'transformers' (C:\\Users\\Shmuel Naaman\\Anaconda3\\lib\\site-packages\\transformers\\__init__.py)",
     "output_type": "error",
     "traceback": [
      "\u001b[1;31m---------------------------------------------------------------------------\u001b[0m",
      "\u001b[1;31mImportError\u001b[0m                               Traceback (most recent call last)",
      "Cell \u001b[1;32mIn[2], line 2\u001b[0m\n\u001b[0;32m      1\u001b[0m \u001b[38;5;28;01mimport\u001b[39;00m \u001b[38;5;21;01mtorch\u001b[39;00m\n\u001b[1;32m----> 2\u001b[0m \u001b[38;5;28;01mfrom\u001b[39;00m \u001b[38;5;21;01mdiffusers\u001b[39;00m \u001b[38;5;28;01mimport\u001b[39;00m DiffusionPipeline\n\u001b[0;32m      3\u001b[0m \u001b[38;5;28;01mfrom\u001b[39;00m \u001b[38;5;21;01mdiffusers\u001b[39;00m \u001b[38;5;28;01mimport\u001b[39;00m DPMSolverMultistepScheduler\n\u001b[0;32m      4\u001b[0m \u001b[38;5;28;01mfrom\u001b[39;00m \u001b[38;5;21;01mdiffusers\u001b[39;00m\u001b[38;5;21;01m.\u001b[39;00m\u001b[38;5;21;01mutils\u001b[39;00m \u001b[38;5;28;01mimport\u001b[39;00m export_to_video\n",
      "File \u001b[1;32m~\\Anaconda3\\lib\\site-packages\\diffusers\\__init__.py:58\u001b[0m\n\u001b[0;32m     36\u001b[0m \u001b[38;5;28;01mfrom\u001b[39;00m \u001b[38;5;21;01m.\u001b[39;00m\u001b[38;5;21;01mmodels\u001b[39;00m \u001b[38;5;28;01mimport\u001b[39;00m (\n\u001b[0;32m     37\u001b[0m     AutoencoderKL,\n\u001b[0;32m     38\u001b[0m     ControlNetModel,\n\u001b[1;32m   (...)\u001b[0m\n\u001b[0;32m     47\u001b[0m     VQModel,\n\u001b[0;32m     48\u001b[0m )\n\u001b[0;32m     49\u001b[0m \u001b[38;5;28;01mfrom\u001b[39;00m \u001b[38;5;21;01m.\u001b[39;00m\u001b[38;5;21;01moptimization\u001b[39;00m \u001b[38;5;28;01mimport\u001b[39;00m (\n\u001b[0;32m     50\u001b[0m     get_constant_schedule,\n\u001b[0;32m     51\u001b[0m     get_constant_schedule_with_warmup,\n\u001b[1;32m   (...)\u001b[0m\n\u001b[0;32m     56\u001b[0m     get_scheduler,\n\u001b[0;32m     57\u001b[0m )\n\u001b[1;32m---> 58\u001b[0m \u001b[38;5;28;01mfrom\u001b[39;00m \u001b[38;5;21;01m.\u001b[39;00m\u001b[38;5;21;01mpipelines\u001b[39;00m \u001b[38;5;28;01mimport\u001b[39;00m (\n\u001b[0;32m     59\u001b[0m     AudioPipelineOutput,\n\u001b[0;32m     60\u001b[0m     DanceDiffusionPipeline,\n\u001b[0;32m     61\u001b[0m     DDIMPipeline,\n\u001b[0;32m     62\u001b[0m     DDPMPipeline,\n\u001b[0;32m     63\u001b[0m     DiffusionPipeline,\n\u001b[0;32m     64\u001b[0m     DiTPipeline,\n\u001b[0;32m     65\u001b[0m     ImagePipelineOutput,\n\u001b[0;32m     66\u001b[0m     KarrasVePipeline,\n\u001b[0;32m     67\u001b[0m     LDMPipeline,\n\u001b[0;32m     68\u001b[0m     LDMSuperResolutionPipeline,\n\u001b[0;32m     69\u001b[0m     PNDMPipeline,\n\u001b[0;32m     70\u001b[0m     RePaintPipeline,\n\u001b[0;32m     71\u001b[0m     ScoreSdeVePipeline,\n\u001b[0;32m     72\u001b[0m )\n\u001b[0;32m     73\u001b[0m \u001b[38;5;28;01mfrom\u001b[39;00m \u001b[38;5;21;01m.\u001b[39;00m\u001b[38;5;21;01mschedulers\u001b[39;00m \u001b[38;5;28;01mimport\u001b[39;00m (\n\u001b[0;32m     74\u001b[0m     DDIMInverseScheduler,\n\u001b[0;32m     75\u001b[0m     DDIMScheduler,\n\u001b[1;32m   (...)\u001b[0m\n\u001b[0;32m     93\u001b[0m     VQDiffusionScheduler,\n\u001b[0;32m     94\u001b[0m )\n\u001b[0;32m     95\u001b[0m \u001b[38;5;28;01mfrom\u001b[39;00m \u001b[38;5;21;01m.\u001b[39;00m\u001b[38;5;21;01mtraining_utils\u001b[39;00m \u001b[38;5;28;01mimport\u001b[39;00m EMAModel\n",
      "File \u001b[1;32m~\\Anaconda3\\lib\\site-packages\\diffusers\\pipelines\\__init__.py:45\u001b[0m\n\u001b[0;32m     43\u001b[0m     \u001b[38;5;28;01mfrom\u001b[39;00m \u001b[38;5;21;01m.\u001b[39;00m\u001b[38;5;21;01m.\u001b[39;00m\u001b[38;5;21;01mutils\u001b[39;00m\u001b[38;5;21;01m.\u001b[39;00m\u001b[38;5;21;01mdummy_torch_and_transformers_objects\u001b[39;00m \u001b[38;5;28;01mimport\u001b[39;00m \u001b[38;5;241m*\u001b[39m  \u001b[38;5;66;03m# noqa F403\u001b[39;00m\n\u001b[0;32m     44\u001b[0m \u001b[38;5;28;01melse\u001b[39;00m:\n\u001b[1;32m---> 45\u001b[0m     \u001b[38;5;28;01mfrom\u001b[39;00m \u001b[38;5;21;01m.\u001b[39;00m\u001b[38;5;21;01malt_diffusion\u001b[39;00m \u001b[38;5;28;01mimport\u001b[39;00m AltDiffusionImg2ImgPipeline, AltDiffusionPipeline\n\u001b[0;32m     46\u001b[0m     \u001b[38;5;28;01mfrom\u001b[39;00m \u001b[38;5;21;01m.\u001b[39;00m\u001b[38;5;21;01maudioldm\u001b[39;00m \u001b[38;5;28;01mimport\u001b[39;00m AudioLDMPipeline\n\u001b[0;32m     47\u001b[0m     \u001b[38;5;28;01mfrom\u001b[39;00m \u001b[38;5;21;01m.\u001b[39;00m\u001b[38;5;21;01mdeepfloyd_if\u001b[39;00m \u001b[38;5;28;01mimport\u001b[39;00m (\n\u001b[0;32m     48\u001b[0m         IFImg2ImgPipeline,\n\u001b[0;32m     49\u001b[0m         IFImg2ImgSuperResolutionPipeline,\n\u001b[1;32m   (...)\u001b[0m\n\u001b[0;32m     53\u001b[0m         IFSuperResolutionPipeline,\n\u001b[0;32m     54\u001b[0m     )\n",
      "File \u001b[1;32m~\\Anaconda3\\lib\\site-packages\\diffusers\\pipelines\\alt_diffusion\\__init__.py:32\u001b[0m\n\u001b[0;32m     30\u001b[0m \u001b[38;5;28;01mif\u001b[39;00m is_transformers_available() \u001b[38;5;129;01mand\u001b[39;00m is_torch_available():\n\u001b[0;32m     31\u001b[0m     \u001b[38;5;28;01mfrom\u001b[39;00m \u001b[38;5;21;01m.\u001b[39;00m\u001b[38;5;21;01mmodeling_roberta_series\u001b[39;00m \u001b[38;5;28;01mimport\u001b[39;00m RobertaSeriesModelWithTransformation\n\u001b[1;32m---> 32\u001b[0m     \u001b[38;5;28;01mfrom\u001b[39;00m \u001b[38;5;21;01m.\u001b[39;00m\u001b[38;5;21;01mpipeline_alt_diffusion\u001b[39;00m \u001b[38;5;28;01mimport\u001b[39;00m AltDiffusionPipeline\n\u001b[0;32m     33\u001b[0m     \u001b[38;5;28;01mfrom\u001b[39;00m \u001b[38;5;21;01m.\u001b[39;00m\u001b[38;5;21;01mpipeline_alt_diffusion_img2img\u001b[39;00m \u001b[38;5;28;01mimport\u001b[39;00m AltDiffusionImg2ImgPipeline\n",
      "File \u001b[1;32m~\\Anaconda3\\lib\\site-packages\\diffusers\\pipelines\\alt_diffusion\\pipeline_alt_diffusion.py:20\u001b[0m\n\u001b[0;32m     18\u001b[0m \u001b[38;5;28;01mimport\u001b[39;00m \u001b[38;5;21;01mtorch\u001b[39;00m\n\u001b[0;32m     19\u001b[0m \u001b[38;5;28;01mfrom\u001b[39;00m \u001b[38;5;21;01mpackaging\u001b[39;00m \u001b[38;5;28;01mimport\u001b[39;00m version\n\u001b[1;32m---> 20\u001b[0m \u001b[38;5;28;01mfrom\u001b[39;00m \u001b[38;5;21;01mtransformers\u001b[39;00m \u001b[38;5;28;01mimport\u001b[39;00m CLIPImageProcessor, XLMRobertaTokenizer\n\u001b[0;32m     22\u001b[0m \u001b[38;5;28;01mfrom\u001b[39;00m \u001b[38;5;21;01mdiffusers\u001b[39;00m\u001b[38;5;21;01m.\u001b[39;00m\u001b[38;5;21;01mutils\u001b[39;00m \u001b[38;5;28;01mimport\u001b[39;00m is_accelerate_available, is_accelerate_version\n\u001b[0;32m     24\u001b[0m \u001b[38;5;28;01mfrom\u001b[39;00m \u001b[38;5;21;01m.\u001b[39;00m\u001b[38;5;21;01m.\u001b[39;00m\u001b[38;5;21;01m.\u001b[39;00m\u001b[38;5;21;01mconfiguration_utils\u001b[39;00m \u001b[38;5;28;01mimport\u001b[39;00m FrozenDict\n",
      "\u001b[1;31mImportError\u001b[0m: cannot import name 'CLIPImageProcessor' from 'transformers' (C:\\Users\\Shmuel Naaman\\Anaconda3\\lib\\site-packages\\transformers\\__init__.py)"
     ]
    }
   ],
   "source": [
    "import torch\n",
    "from diffusers import DiffusionPipeline\n",
    "from diffusers import DPMSolverMultistepScheduler\n",
    "from diffusers.utils import export_to_video\n",
    "\n",
    "pipe = DiffusionPipeline.from_pretrained(\"damo-vilab/text-to-video-ms-1.7b\", torch_dtype=torch.float16, variant=\"fp16\")\n",
    "pipe.scheduler = DPMSolverMultistepScheduler.from_config(pipe.scheduler.config)\n",
    "pipe.enable_model_cpu_offload()\n",
    "\n",
    "prompt = \"Spiderman is surfing\"\n",
    "video_frames = pipe(prompt, num_inference_steps=25).frames\n",
    "video_path = export_to_video(video_frames)"
   ]
  },
  {
   "cell_type": "code",
   "execution_count": 3,
   "metadata": {},
   "outputs": [],
   "source": [
    "# imports\n",
    "import pandas as pd\n",
    "from transformers import MarianMTModel, MarianTokenizer\n",
    "from transformers import pipeline\n",
    " "
   ]
  },
  {
   "cell_type": "code",
   "execution_count": 4,
   "metadata": {},
   "outputs": [
    {
     "name": "stderr",
     "output_type": "stream",
     "text": [
      "C:\\Users\\Shmuel Naaman\\Anaconda3\\lib\\site-packages\\transformers\\generation_utils.py:1359: UserWarning: Neither `max_length` nor `max_new_tokens` has been set, `max_length` will default to 512 (`self.config.max_length`). Controlling `max_length` via the config is deprecated and `max_length` will be removed from the config in v5 of Transformers -- we recommend using `max_new_tokens` to control the maximum length of the generation.\n",
      "  warnings.warn(\n",
      "No model was supplied, defaulted to distilbert-base-uncased-finetuned-sst-2-english and revision af0f99b (https://huggingface.co/distilbert-base-uncased-finetuned-sst-2-english).\n",
      "Using a pipeline without specifying a model name and revision in production is not recommended.\n"
     ]
    },
    {
     "data": {
      "text/plain": [
       "(      label     score\n",
       " 0  POSITIVE  0.999891,\n",
       " 'La Land is an absolutely beautiful film with songs that stay in the head for days. The actors are incredible and their alchemy is palpable. The dance scenes are absolutely dazzling and the story is touching and authentic.')"
      ]
     },
     "execution_count": 4,
     "metadata": {},
     "output_type": "execute_result"
    }
   ],
   "source": [
    "text =\"La La Land est un film absolument magnifique avec des chansons qui restent dans la tête pendant des jours. Les acteurs sont incroyables et leur alchimie est palpable. Les scènes de danse sont absolument éblouissantes et l\\'histoire est touchante et authentique.\"\n",
    "\n",
    "fr_en_model_name = \"Helsinki-NLP/opus-mt-fr-en\"  \n",
    " \n",
    "fr_en_model = MarianMTModel.from_pretrained(fr_en_model_name)  \n",
    "fr_en_tokenizer = MarianTokenizer.from_pretrained(fr_en_model_name)\n",
    " \n",
    "# encode preprocess   \n",
    "inputs = fr_en_tokenizer(text, return_tensors=\"pt\")  \n",
    "\n",
    "# generate the translation using the model\n",
    "outputs = fr_en_model.generate(**inputs) #None\n",
    "\n",
    "# decode the generated output and return the translated text\n",
    "decoded = fr_en_tokenizer.decode(outputs[0], skip_special_tokens=True)\n",
    "\n",
    "# sentiment-analysis\n",
    "model_name = \"sentiment-analysis\"\n",
    "sentiment_classifier = pipeline(model_name)  \n",
    "sentiment   = pd.DataFrame.from_records(sentiment_classifier(decoded)) \n",
    "\n",
    "sentiment,decoded\n",
    " "
   ]
  },
  {
   "cell_type": "markdown",
   "metadata": {},
   "source": [
    "### Get data from `.csv` files and then preprocess data"
   ]
  },
  {
   "cell_type": "code",
   "execution_count": 17,
   "metadata": {
    "scrolled": true
   },
   "outputs": [],
   "source": [
    "# use the `pd.read_csv()` function to read the movie_review_*.csv files into 3 separate pandas dataframes\n",
    "\n",
    "# Note: All the dataframes would have different column names. For testing purposes\n",
    "# you should have the following column names/headers -> [Title, Year, Synopsis, Review]\n",
    "\n",
    "def preprocess_data() -> pd.DataFrame:\n",
    "    \"\"\"\n",
    "    Reads movie data from .csv files, map column names, add the \"Original Language\" column,\n",
    "    and finally concatenate in one resultant dataframe called \"df\".\n",
    "    \"\"\"\n",
    "    df_eng = pd.read_csv(\"data/movie_reviews_eng.csv\")\n",
    " \n",
    "    #TODO 1: Add your code here\n",
    "    df_eng = df_eng.rename(columns={'Movie / TV Series':'Title', \n",
    "                                'Year':'Year', \n",
    "                                'Synopsis':'Synopsis', \n",
    "                                'Review':'Review'})\n",
    "    df_eng[\"Original Language\"]= 'eng'\n",
    "    \n",
    "    \n",
    "    df_fr = pd.read_csv(\"data/movie_reviews_fr.csv\")\n",
    "    df_fr = df_fr.rename(columns={'Titre':'Title', \n",
    "                                'Année':'Year', \n",
    "                                'Synopsis':'Synopsis', \n",
    "                                'Critiques':'Review'})\n",
    "    df_fr[\"Original Language\"]= 'fr'\n",
    "    \n",
    "    df = pd.concat([df_eng, df_fr] , ignore_index=True)\n",
    "    \n",
    "    df_sp = pd.read_csv(\"data/movie_reviews_sp.csv\")\n",
    "    df_sp = df_sp.rename(columns={'Título':'Title', \n",
    "                                'Año':'Year', \n",
    "                                'Sinopsis':'Synopsis', \n",
    "                                'Críticas':'Review'})\n",
    "    df_sp[\"Original Language\"]= 'sp'\n",
    "    \n",
    "    df = pd.concat([df, df_sp] , ignore_index=True)\n",
    "\n",
    "    return df\n",
    "\n",
    "df = preprocess_data()"
   ]
  },
  {
   "cell_type": "code",
   "execution_count": 18,
   "metadata": {},
   "outputs": [
    {
     "data": {
      "text/plain": [
       "'\"La La Land est un film absolument magnifique avec des chansons qui restent dans la tête pendant des jours. Les acteurs sont incroyables et leur alchimie est palpable. Les scènes de danse sont absolument éblouissantes et l\\'histoire est touchante et authentique.\"'"
      ]
     },
     "execution_count": 18,
     "metadata": {},
     "output_type": "execute_result"
    }
   ],
   "source": [
    "df['Review'][10]"
   ]
  },
  {
   "cell_type": "code",
   "execution_count": 4,
   "metadata": {},
   "outputs": [
    {
     "data": {
      "text/html": [
       "<div>\n",
       "<style scoped>\n",
       "    .dataframe tbody tr th:only-of-type {\n",
       "        vertical-align: middle;\n",
       "    }\n",
       "\n",
       "    .dataframe tbody tr th {\n",
       "        vertical-align: top;\n",
       "    }\n",
       "\n",
       "    .dataframe thead th {\n",
       "        text-align: right;\n",
       "    }\n",
       "</style>\n",
       "<table border=\"1\" class=\"dataframe\">\n",
       "  <thead>\n",
       "    <tr style=\"text-align: right;\">\n",
       "      <th></th>\n",
       "      <th>Title</th>\n",
       "      <th>Year</th>\n",
       "      <th>Synopsis</th>\n",
       "      <th>Review</th>\n",
       "      <th>Original Language</th>\n",
       "    </tr>\n",
       "  </thead>\n",
       "  <tbody>\n",
       "    <tr>\n",
       "      <th>13</th>\n",
       "      <td>Les Choristes</td>\n",
       "      <td>2004</td>\n",
       "      <td>Ce film raconte l'histoire d'un professeur de ...</td>\n",
       "      <td>\"Les Choristes est un film magnifique qui vous...</td>\n",
       "      <td>fr</td>\n",
       "    </tr>\n",
       "    <tr>\n",
       "      <th>22</th>\n",
       "      <td>Y tu mamá también</td>\n",
       "      <td>2001</td>\n",
       "      <td>Dos amigos adolescentes (Gael García Bernal y ...</td>\n",
       "      <td>\"Y tu mamá también es una película que se qued...</td>\n",
       "      <td>sp</td>\n",
       "    </tr>\n",
       "    <tr>\n",
       "      <th>29</th>\n",
       "      <td>El Incidente</td>\n",
       "      <td>2014</td>\n",
       "      <td>En esta película de terror mexicana, un grupo ...</td>\n",
       "      <td>\"El Incidente es una película aburrida y sin s...</td>\n",
       "      <td>sp</td>\n",
       "    </tr>\n",
       "    <tr>\n",
       "      <th>10</th>\n",
       "      <td>La La Land</td>\n",
       "      <td>2016</td>\n",
       "      <td>Cette comédie musicale raconte l'histoire d'un...</td>\n",
       "      <td>\"La La Land est un film absolument magnifique ...</td>\n",
       "      <td>fr</td>\n",
       "    </tr>\n",
       "    <tr>\n",
       "      <th>23</th>\n",
       "      <td>El Laberinto del Fauno</td>\n",
       "      <td>2006</td>\n",
       "      <td>Durante la posguerra española, Ofelia (Ivana B...</td>\n",
       "      <td>\"El Laberinto del Fauno es una película fascin...</td>\n",
       "      <td>sp</td>\n",
       "    </tr>\n",
       "    <tr>\n",
       "      <th>12</th>\n",
       "      <td>Amélie</td>\n",
       "      <td>2001</td>\n",
       "      <td>Cette comédie romantique raconte l'histoire d'...</td>\n",
       "      <td>\"Amélie est un film absolument charmant qui vo...</td>\n",
       "      <td>fr</td>\n",
       "    </tr>\n",
       "    <tr>\n",
       "      <th>27</th>\n",
       "      <td>El Bar</td>\n",
       "      <td>2017</td>\n",
       "      <td>Un grupo de personas quedan atrapadas en un ba...</td>\n",
       "      <td>\"El Bar es una película ridícula y sin sentido...</td>\n",
       "      <td>sp</td>\n",
       "    </tr>\n",
       "    <tr>\n",
       "      <th>2</th>\n",
       "      <td>Forrest Gump</td>\n",
       "      <td>1994</td>\n",
       "      <td>Forrest Gump (Tom Hanks) is a simple man with ...</td>\n",
       "      <td>\"Forrest Gump is a heartwarming and inspiratio...</td>\n",
       "      <td>eng</td>\n",
       "    </tr>\n",
       "    <tr>\n",
       "      <th>16</th>\n",
       "      <td>La Tour Montparnasse Infernale</td>\n",
       "      <td>2001</td>\n",
       "      <td>Deux employés de bureau incompétents se retrou...</td>\n",
       "      <td>\"Je ne peux pas croire que j'ai perdu du temps...</td>\n",
       "      <td>fr</td>\n",
       "    </tr>\n",
       "    <tr>\n",
       "      <th>0</th>\n",
       "      <td>The Shawshank Redemption</td>\n",
       "      <td>1994</td>\n",
       "      <td>Andy Dufresne (Tim Robbins), a successful bank...</td>\n",
       "      <td>\"The Shawshank Redemption is an inspiring tale...</td>\n",
       "      <td>eng</td>\n",
       "    </tr>\n",
       "  </tbody>\n",
       "</table>\n",
       "</div>"
      ],
      "text/plain": [
       "                             Title  Year  \\\n",
       "13                   Les Choristes  2004   \n",
       "22               Y tu mamá también  2001   \n",
       "29                    El Incidente  2014   \n",
       "10                      La La Land  2016   \n",
       "23          El Laberinto del Fauno  2006   \n",
       "12                          Amélie  2001   \n",
       "27                          El Bar  2017   \n",
       "2                     Forrest Gump  1994   \n",
       "16  La Tour Montparnasse Infernale  2001   \n",
       "0        The Shawshank Redemption   1994   \n",
       "\n",
       "                                             Synopsis  \\\n",
       "13  Ce film raconte l'histoire d'un professeur de ...   \n",
       "22  Dos amigos adolescentes (Gael García Bernal y ...   \n",
       "29  En esta película de terror mexicana, un grupo ...   \n",
       "10  Cette comédie musicale raconte l'histoire d'un...   \n",
       "23  Durante la posguerra española, Ofelia (Ivana B...   \n",
       "12  Cette comédie romantique raconte l'histoire d'...   \n",
       "27  Un grupo de personas quedan atrapadas en un ba...   \n",
       "2   Forrest Gump (Tom Hanks) is a simple man with ...   \n",
       "16  Deux employés de bureau incompétents se retrou...   \n",
       "0   Andy Dufresne (Tim Robbins), a successful bank...   \n",
       "\n",
       "                                               Review Original Language  \n",
       "13  \"Les Choristes est un film magnifique qui vous...                fr  \n",
       "22  \"Y tu mamá también es una película que se qued...                sp  \n",
       "29  \"El Incidente es una película aburrida y sin s...                sp  \n",
       "10  \"La La Land est un film absolument magnifique ...                fr  \n",
       "23  \"El Laberinto del Fauno es una película fascin...                sp  \n",
       "12  \"Amélie est un film absolument charmant qui vo...                fr  \n",
       "27  \"El Bar es una película ridícula y sin sentido...                sp  \n",
       "2   \"Forrest Gump is a heartwarming and inspiratio...               eng  \n",
       "16  \"Je ne peux pas croire que j'ai perdu du temps...                fr  \n",
       "0   \"The Shawshank Redemption is an inspiring tale...               eng  "
      ]
     },
     "execution_count": 4,
     "metadata": {},
     "output_type": "execute_result"
    }
   ],
   "source": [
    "df.sample(10)"
   ]
  },
  {
   "cell_type": "markdown",
   "metadata": {},
   "source": [
    "### Text translation\n",
    "\n",
    "Translate the **Review** and **Synopsis** column values to English."
   ]
  },
  {
   "cell_type": "code",
   "execution_count": 6,
   "metadata": {},
   "outputs": [],
   "source": [
    "# load translation models and tokenizers\n",
    "# TODO 2: Update the code below\n",
    "fr_en_model_name = \"Helsinki-NLP/opus-mt-fr-en\"  \n",
    "es_en_model_name = \"Helsinki-NLP/opus-mt-es-en\" \n",
    "\n",
    "fr_en_model = MarianMTModel.from_pretrained(fr_en_model_name) \n",
    "es_en_model = MarianMTModel.from_pretrained(es_en_model_name) \n",
    "\n",
    "fr_en_tokenizer = MarianTokenizer.from_pretrained(fr_en_model_name)\n",
    "es_en_tokenizer = MarianTokenizer.from_pretrained(es_en_model_name)  "
   ]
  },
  {
   "cell_type": "code",
   "execution_count": 7,
   "metadata": {},
   "outputs": [],
   "source": [
    " \n",
    "\n",
    "# TODO 3: Complete the function below\n",
    "def translate(text: str, model, tokenizer) -> str:\n",
    "    \"\"\"\n",
    "    function to translate a text using a model and tokenizer\n",
    "    \"\"\"\n",
    "    # encode the text using the tokenizer\n",
    "    inputs = tokenizer(text, return_tensors=\"pt\") #None\n",
    "\n",
    "    # generate the translation using the model\n",
    "    outputs = model.generate(**inputs) #None\n",
    "\n",
    "    # decode the generated output and return the translated text\n",
    "    decoded = tokenizer.decode(outputs[0], skip_special_tokens=True)\n",
    "    return decoded"
   ]
  },
  {
   "cell_type": "code",
   "execution_count": 8,
   "metadata": {},
   "outputs": [
    {
     "name": "stderr",
     "output_type": "stream",
     "text": [
      "C:\\Users\\Shmuel Naaman\\Anaconda3\\lib\\site-packages\\transformers\\generation_utils.py:1359: UserWarning: Neither `max_length` nor `max_new_tokens` has been set, `max_length` will default to 512 (`self.config.max_length`). Controlling `max_length` via the config is deprecated and `max_length` will be removed from the config in v5 of Transformers -- we recommend using `max_new_tokens` to control the maximum length of the generation.\n",
      "  warnings.warn(\n",
      "C:\\Users\\Shmuel Naaman\\Anaconda3\\lib\\site-packages\\transformers\\generation_utils.py:1359: UserWarning: Neither `max_length` nor `max_new_tokens` has been set, `max_length` will default to 512 (`self.config.max_length`). Controlling `max_length` via the config is deprecated and `max_length` will be removed from the config in v5 of Transformers -- we recommend using `max_new_tokens` to control the maximum length of the generation.\n",
      "  warnings.warn(\n",
      "C:\\Users\\Shmuel Naaman\\Anaconda3\\lib\\site-packages\\transformers\\generation_utils.py:1359: UserWarning: Neither `max_length` nor `max_new_tokens` has been set, `max_length` will default to 512 (`self.config.max_length`). Controlling `max_length` via the config is deprecated and `max_length` will be removed from the config in v5 of Transformers -- we recommend using `max_new_tokens` to control the maximum length of the generation.\n",
      "  warnings.warn(\n",
      "C:\\Users\\Shmuel Naaman\\Anaconda3\\lib\\site-packages\\transformers\\generation_utils.py:1359: UserWarning: Neither `max_length` nor `max_new_tokens` has been set, `max_length` will default to 512 (`self.config.max_length`). Controlling `max_length` via the config is deprecated and `max_length` will be removed from the config in v5 of Transformers -- we recommend using `max_new_tokens` to control the maximum length of the generation.\n",
      "  warnings.warn(\n"
     ]
    }
   ],
   "source": [
    "# TODO 4: Update the code below\n",
    "\n",
    "# filter reviews in French and translate to English\n",
    "fr_reviews = None\n",
    "fr_reviews_en =  df[df['Original Language'] == 'fr']['Review'].apply(lambda x: translate(x, fr_en_model, fr_en_tokenizer ))#None\n",
    "\n",
    "df.loc[df['Original Language'] == 'fr', ['Review']] = fr_reviews_en \n",
    " \n",
    "\n",
    "# filter synopsis in French and translate to English\n",
    "fr_synopsis = None\n",
    "fr_synopsis_en = df[df['Original Language'] == 'fr']['Synopsis'].apply(lambda x: translate(x,  \n",
    "                                                                 fr_en_model, \n",
    "                                                                 fr_en_tokenizer ))\n",
    "\n",
    "df.loc[df['Original Language'] == 'fr', ['Synopsis']] = fr_synopsis_en \n",
    "\n",
    "# filter reviews in Spanish and translate to English\n",
    "es_reviews = None\n",
    "es_reviews_en = df[df['Original Language']  == 'sp']['Review'].apply(lambda x: translate(x,  \n",
    "                                                                 es_en_model, \n",
    "                                                                 es_en_tokenizer ))#None\n",
    "\n",
    "df.loc[df['Original Language'] == 'sp', ['Review']] = es_reviews_en \n",
    "\n",
    "# filter synopsis in Spanish and translate to English\n",
    "es_synopsis = None\n",
    "es_synopsis_en = df[df['Original Language']  == 'sp']['Synopsis'].apply(lambda x: translate(x,  \n",
    "                                                                 es_en_model, \n",
    "                                                                 es_en_tokenizer ))#None\n",
    "\n",
    "df.loc[df['Original Language'] == 'sp', ['Synopsis']] = es_synopsis_en \n",
    "\n",
    "# update dataframe with translated text\n",
    "# add the translated reviews and synopsis - you can overwrite the existing data"
   ]
  },
  {
   "cell_type": "code",
   "execution_count": 9,
   "metadata": {},
   "outputs": [
    {
     "data": {
      "text/html": [
       "<div>\n",
       "<style scoped>\n",
       "    .dataframe tbody tr th:only-of-type {\n",
       "        vertical-align: middle;\n",
       "    }\n",
       "\n",
       "    .dataframe tbody tr th {\n",
       "        vertical-align: top;\n",
       "    }\n",
       "\n",
       "    .dataframe thead th {\n",
       "        text-align: right;\n",
       "    }\n",
       "</style>\n",
       "<table border=\"1\" class=\"dataframe\">\n",
       "  <thead>\n",
       "    <tr style=\"text-align: right;\">\n",
       "      <th></th>\n",
       "      <th>Title</th>\n",
       "      <th>Year</th>\n",
       "      <th>Synopsis</th>\n",
       "      <th>Review</th>\n",
       "      <th>Original Language</th>\n",
       "    </tr>\n",
       "  </thead>\n",
       "  <tbody>\n",
       "    <tr>\n",
       "      <th>2</th>\n",
       "      <td>Forrest Gump</td>\n",
       "      <td>1994</td>\n",
       "      <td>Forrest Gump (Tom Hanks) is a simple man with ...</td>\n",
       "      <td>\"Forrest Gump is a heartwarming and inspiratio...</td>\n",
       "      <td>eng</td>\n",
       "    </tr>\n",
       "    <tr>\n",
       "      <th>23</th>\n",
       "      <td>El Laberinto del Fauno</td>\n",
       "      <td>2006</td>\n",
       "      <td>During the Spanish postwar period, Ofelia (Iva...</td>\n",
       "      <td>\"The Labyrinth of Fauno is a fascinating and e...</td>\n",
       "      <td>sp</td>\n",
       "    </tr>\n",
       "    <tr>\n",
       "      <th>28</th>\n",
       "      <td>Torrente: El brazo tonto de la ley</td>\n",
       "      <td>1998</td>\n",
       "      <td>In this Spanish comedy, a corrupt cop (played ...</td>\n",
       "      <td>\"Torrente is a vulgar and offensive film that ...</td>\n",
       "      <td>sp</td>\n",
       "    </tr>\n",
       "    <tr>\n",
       "      <th>16</th>\n",
       "      <td>La Tour Montparnasse Infernale</td>\n",
       "      <td>2001</td>\n",
       "      <td>Two incompetent office workers find themselves...</td>\n",
       "      <td>\"I can't believe I've wasted time watching thi...</td>\n",
       "      <td>fr</td>\n",
       "    </tr>\n",
       "    <tr>\n",
       "      <th>20</th>\n",
       "      <td>Roma</td>\n",
       "      <td>2018</td>\n",
       "      <td>Cleo (Yalitza Aparicio) is a young domestic wo...</td>\n",
       "      <td>\"Rome is a beautiful and moving film that pays...</td>\n",
       "      <td>sp</td>\n",
       "    </tr>\n",
       "    <tr>\n",
       "      <th>9</th>\n",
       "      <td>The Island</td>\n",
       "      <td>2005</td>\n",
       "      <td>In a future where people are cloned for organ ...</td>\n",
       "      <td>\"The Island is a bland and forgettable sci-fi ...</td>\n",
       "      <td>eng</td>\n",
       "    </tr>\n",
       "    <tr>\n",
       "      <th>3</th>\n",
       "      <td>The Godfather</td>\n",
       "      <td>1972</td>\n",
       "      <td>Don Vito Corleone (Marlon Brando) is the head ...</td>\n",
       "      <td>\"The Godfather is a classic movie that stands ...</td>\n",
       "      <td>eng</td>\n",
       "    </tr>\n",
       "    <tr>\n",
       "      <th>12</th>\n",
       "      <td>Amélie</td>\n",
       "      <td>2001</td>\n",
       "      <td>This romantic comedy tells the story of Amélie...</td>\n",
       "      <td>\"Amélie is an absolutely charming film that wi...</td>\n",
       "      <td>fr</td>\n",
       "    </tr>\n",
       "    <tr>\n",
       "      <th>13</th>\n",
       "      <td>Les Choristes</td>\n",
       "      <td>2004</td>\n",
       "      <td>This film tells the story of a music teacher w...</td>\n",
       "      <td>\"The Choristes are a beautiful film that will ...</td>\n",
       "      <td>fr</td>\n",
       "    </tr>\n",
       "    <tr>\n",
       "      <th>25</th>\n",
       "      <td>Águila Roja</td>\n",
       "      <td>(2009-2016)</td>\n",
       "      <td>This Spanish television series follows the adv...</td>\n",
       "      <td>\"Red Eagle is a boring and uninteresting serie...</td>\n",
       "      <td>sp</td>\n",
       "    </tr>\n",
       "  </tbody>\n",
       "</table>\n",
       "</div>"
      ],
      "text/plain": [
       "                                 Title         Year  \\\n",
       "2                         Forrest Gump         1994   \n",
       "23              El Laberinto del Fauno         2006   \n",
       "28  Torrente: El brazo tonto de la ley         1998   \n",
       "16      La Tour Montparnasse Infernale         2001   \n",
       "20                                Roma         2018   \n",
       "9                           The Island         2005   \n",
       "3                       The Godfather          1972   \n",
       "12                              Amélie         2001   \n",
       "13                       Les Choristes         2004   \n",
       "25                        Águila Roja   (2009-2016)   \n",
       "\n",
       "                                             Synopsis  \\\n",
       "2   Forrest Gump (Tom Hanks) is a simple man with ...   \n",
       "23  During the Spanish postwar period, Ofelia (Iva...   \n",
       "28  In this Spanish comedy, a corrupt cop (played ...   \n",
       "16  Two incompetent office workers find themselves...   \n",
       "20  Cleo (Yalitza Aparicio) is a young domestic wo...   \n",
       "9   In a future where people are cloned for organ ...   \n",
       "3   Don Vito Corleone (Marlon Brando) is the head ...   \n",
       "12  This romantic comedy tells the story of Amélie...   \n",
       "13  This film tells the story of a music teacher w...   \n",
       "25  This Spanish television series follows the adv...   \n",
       "\n",
       "                                               Review Original Language  \n",
       "2   \"Forrest Gump is a heartwarming and inspiratio...               eng  \n",
       "23  \"The Labyrinth of Fauno is a fascinating and e...                sp  \n",
       "28  \"Torrente is a vulgar and offensive film that ...                sp  \n",
       "16  \"I can't believe I've wasted time watching thi...                fr  \n",
       "20  \"Rome is a beautiful and moving film that pays...                sp  \n",
       "9   \"The Island is a bland and forgettable sci-fi ...               eng  \n",
       "3   \"The Godfather is a classic movie that stands ...               eng  \n",
       "12  \"Amélie is an absolutely charming film that wi...                fr  \n",
       "13  \"The Choristes are a beautiful film that will ...                fr  \n",
       "25  \"Red Eagle is a boring and uninteresting serie...                sp  "
      ]
     },
     "execution_count": 9,
     "metadata": {},
     "output_type": "execute_result"
    }
   ],
   "source": [
    "df.sample(10)"
   ]
  },
  {
   "cell_type": "markdown",
   "metadata": {},
   "source": [
    "### Sentiment Analysis\n",
    "Use HuggingFace pretrained model for sentiment analysis of the reviews. Store the sentiment result **Positive** or **Negative** in a new column titled **Sentiment** in the dataframe.\n"
   ]
  },
  {
   "cell_type": "code",
   "execution_count": 8,
   "metadata": {},
   "outputs": [
    {
     "name": "stderr",
     "output_type": "stream",
     "text": [
      "No model was supplied, defaulted to distilbert-base-uncased-finetuned-sst-2-english and revision af0f99b (https://huggingface.co/distilbert-base-uncased-finetuned-sst-2-english).\n",
      "Using a pipeline without specifying a model name and revision in production is not recommended.\n"
     ]
    },
    {
     "data": {
      "application/vnd.jupyter.widget-view+json": {
       "model_id": "728af1e3fefd4940ac28083ce386bf1f",
       "version_major": 2,
       "version_minor": 0
      },
      "text/plain": [
       "Downloading (…)lve/main/config.json:   0%|          | 0.00/629 [00:00<?, ?B/s]"
      ]
     },
     "metadata": {},
     "output_type": "display_data"
    },
    {
     "data": {
      "application/vnd.jupyter.widget-view+json": {
       "model_id": "d7a6281aa2d8412da25017f104e89a40",
       "version_major": 2,
       "version_minor": 0
      },
      "text/plain": [
       "Downloading pytorch_model.bin:   0%|          | 0.00/268M [00:00<?, ?B/s]"
      ]
     },
     "metadata": {},
     "output_type": "display_data"
    },
    {
     "data": {
      "application/vnd.jupyter.widget-view+json": {
       "model_id": "a872cf2fe15f47b692940a4e381f52cb",
       "version_major": 2,
       "version_minor": 0
      },
      "text/plain": [
       "Downloading (…)okenizer_config.json:   0%|          | 0.00/48.0 [00:00<?, ?B/s]"
      ]
     },
     "metadata": {},
     "output_type": "display_data"
    },
    {
     "data": {
      "application/vnd.jupyter.widget-view+json": {
       "model_id": "05c28bcb8cd44a4097d44543d7de4805",
       "version_major": 2,
       "version_minor": 0
      },
      "text/plain": [
       "Downloading (…)solve/main/vocab.txt:   0%|          | 0.00/232k [00:00<?, ?B/s]"
      ]
     },
     "metadata": {},
     "output_type": "display_data"
    }
   ],
   "source": [
    "# Taken from the example here in this link\n",
    "# https://huggingface.co/blog/sentiment-analysis-python#2-how-to-use-pre-trained-sentiment-analysis-models-with-python\n",
    "#from transformers import pipeline \n",
    " "
   ]
  },
  {
   "cell_type": "code",
   "execution_count": 10,
   "metadata": {},
   "outputs": [
    {
     "name": "stderr",
     "output_type": "stream",
     "text": [
      "No model was supplied, defaulted to distilbert-base-uncased-finetuned-sst-2-english and revision af0f99b (https://huggingface.co/distilbert-base-uncased-finetuned-sst-2-english).\n",
      "Using a pipeline without specifying a model name and revision in production is not recommended.\n"
     ]
    },
    {
     "data": {
      "application/vnd.jupyter.widget-view+json": {
       "model_id": "59cbb9399f0e45cd83b62a2178e9a259",
       "version_major": 2,
       "version_minor": 0
      },
      "text/plain": [
       "Downloading:   0%|          | 0.00/629 [00:00<?, ?B/s]"
      ]
     },
     "metadata": {},
     "output_type": "display_data"
    },
    {
     "name": "stderr",
     "output_type": "stream",
     "text": [
      "C:\\Users\\Shmuel Naaman\\Anaconda3\\lib\\site-packages\\huggingface_hub\\file_download.py:123: UserWarning: `huggingface_hub` cache-system uses symlinks by default to efficiently store duplicated files but your machine does not support them in C:\\Users\\Shmuel Naaman\\.cache\\huggingface\\hub. Caching files will still work but in a degraded version that might require more space on your disk. This warning can be disabled by setting the `HF_HUB_DISABLE_SYMLINKS_WARNING` environment variable. For more details, see https://huggingface.co/docs/huggingface_hub/how-to-cache#limitations.\n",
      "To support symlinks on Windows, you either need to activate Developer Mode or to run Python as an administrator. In order to see activate developer mode, see this article: https://docs.microsoft.com/en-us/windows/apps/get-started/enable-your-device-for-development\n",
      "  warnings.warn(message)\n"
     ]
    },
    {
     "data": {
      "application/vnd.jupyter.widget-view+json": {
       "model_id": "2a5a23f3ab9146fab0159e9aa1102da1",
       "version_major": 2,
       "version_minor": 0
      },
      "text/plain": [
       "Downloading:   0%|          | 0.00/268M [00:00<?, ?B/s]"
      ]
     },
     "metadata": {},
     "output_type": "display_data"
    },
    {
     "data": {
      "application/vnd.jupyter.widget-view+json": {
       "model_id": "899d6a20a82e4b9d9ec2ccac6e027cd7",
       "version_major": 2,
       "version_minor": 0
      },
      "text/plain": [
       "Downloading:   0%|          | 0.00/48.0 [00:00<?, ?B/s]"
      ]
     },
     "metadata": {},
     "output_type": "display_data"
    },
    {
     "data": {
      "application/vnd.jupyter.widget-view+json": {
       "model_id": "a02d534f14554ba68fe66de2f9473108",
       "version_major": 2,
       "version_minor": 0
      },
      "text/plain": [
       "Downloading:   0%|          | 0.00/232k [00:00<?, ?B/s]"
      ]
     },
     "metadata": {},
     "output_type": "display_data"
    }
   ],
   "source": [
    "# TODO 5: Update the code below\n",
    "# load sentiment analysis model\n",
    "model_name = \"sentiment-analysis\"\n",
    "sentiment_classifier = pipeline(model_name)  \n",
    "\n",
    "# TODO 6: Complete the function below\n",
    "def analyze_sentiment(text, classifier):\n",
    "    \"\"\"\n",
    "    function to perform sentiment analysis on a text using a model\n",
    "    \"\"\"\n",
    "    # \n",
    "    # \n",
    "    # text = df.Synopsis.tolist()\n",
    "\n",
    "    df_t  = pd.DataFrame.from_records(classifier(text)) \n",
    "    return df_t"
   ]
  },
  {
   "cell_type": "code",
   "execution_count": 11,
   "metadata": {},
   "outputs": [],
   "source": [
    "# TODO 7: Add code below for sentiment analysis\n",
    "# perform sentiment analysis on reviews and store results in new column\n",
    "\n",
    "df_t = analyze_sentiment( df.Review.tolist(), sentiment_classifier)\n",
    "\n",
    "df['label'] = df_t.label\n",
    "df['score'] = df_t.score"
   ]
  },
  {
   "cell_type": "code",
   "execution_count": 12,
   "metadata": {},
   "outputs": [
    {
     "data": {
      "text/html": [
       "<div>\n",
       "<style scoped>\n",
       "    .dataframe tbody tr th:only-of-type {\n",
       "        vertical-align: middle;\n",
       "    }\n",
       "\n",
       "    .dataframe tbody tr th {\n",
       "        vertical-align: top;\n",
       "    }\n",
       "\n",
       "    .dataframe thead th {\n",
       "        text-align: right;\n",
       "    }\n",
       "</style>\n",
       "<table border=\"1\" class=\"dataframe\">\n",
       "  <thead>\n",
       "    <tr style=\"text-align: right;\">\n",
       "      <th></th>\n",
       "      <th>Title</th>\n",
       "      <th>Year</th>\n",
       "      <th>Synopsis</th>\n",
       "      <th>Review</th>\n",
       "      <th>Original Language</th>\n",
       "      <th>label</th>\n",
       "      <th>score</th>\n",
       "    </tr>\n",
       "  </thead>\n",
       "  <tbody>\n",
       "    <tr>\n",
       "      <th>3</th>\n",
       "      <td>The Godfather</td>\n",
       "      <td>1972</td>\n",
       "      <td>Don Vito Corleone (Marlon Brando) is the head ...</td>\n",
       "      <td>\"The Godfather is a classic movie that stands ...</td>\n",
       "      <td>eng</td>\n",
       "      <td>POSITIVE</td>\n",
       "      <td>0.999884</td>\n",
       "    </tr>\n",
       "    <tr>\n",
       "      <th>2</th>\n",
       "      <td>Forrest Gump</td>\n",
       "      <td>1994</td>\n",
       "      <td>Forrest Gump (Tom Hanks) is a simple man with ...</td>\n",
       "      <td>\"Forrest Gump is a heartwarming and inspiratio...</td>\n",
       "      <td>eng</td>\n",
       "      <td>POSITIVE</td>\n",
       "      <td>0.999885</td>\n",
       "    </tr>\n",
       "    <tr>\n",
       "      <th>29</th>\n",
       "      <td>El Incidente</td>\n",
       "      <td>2014</td>\n",
       "      <td>In this Mexican horror film, a group of people...</td>\n",
       "      <td>\"The Incident is a boring and frightless film ...</td>\n",
       "      <td>sp</td>\n",
       "      <td>NEGATIVE</td>\n",
       "      <td>0.999810</td>\n",
       "    </tr>\n",
       "    <tr>\n",
       "      <th>8</th>\n",
       "      <td>Solo: A Star Wars Story</td>\n",
       "      <td>2018</td>\n",
       "      <td>A young Han Solo (Alden Ehrenreich) joins a gr...</td>\n",
       "      <td>\"Dull and pointless, with none of the magic of...</td>\n",
       "      <td>eng</td>\n",
       "      <td>NEGATIVE</td>\n",
       "      <td>0.999799</td>\n",
       "    </tr>\n",
       "    <tr>\n",
       "      <th>4</th>\n",
       "      <td>Inception</td>\n",
       "      <td>2010</td>\n",
       "      <td>Dom Cobb (Leonardo DiCaprio) is a skilled thie...</td>\n",
       "      <td>\"Inception is a mind-bending and visually stun...</td>\n",
       "      <td>eng</td>\n",
       "      <td>POSITIVE</td>\n",
       "      <td>0.999885</td>\n",
       "    </tr>\n",
       "    <tr>\n",
       "      <th>5</th>\n",
       "      <td>Blade Runner 2049</td>\n",
       "      <td>2017</td>\n",
       "      <td>Officer K (Ryan Gosling), a new blade runner f...</td>\n",
       "      <td>\"Boring and too long. Nothing like the origina...</td>\n",
       "      <td>eng</td>\n",
       "      <td>NEGATIVE</td>\n",
       "      <td>0.999675</td>\n",
       "    </tr>\n",
       "    <tr>\n",
       "      <th>23</th>\n",
       "      <td>El Laberinto del Fauno</td>\n",
       "      <td>2006</td>\n",
       "      <td>During the Spanish postwar period, Ofelia (Iva...</td>\n",
       "      <td>\"The Labyrinth of Fauno is a fascinating and e...</td>\n",
       "      <td>sp</td>\n",
       "      <td>POSITIVE</td>\n",
       "      <td>0.999874</td>\n",
       "    </tr>\n",
       "    <tr>\n",
       "      <th>19</th>\n",
       "      <td>Babylon A.D.</td>\n",
       "      <td>2008</td>\n",
       "      <td>In the distant future, a mercenary has to esco...</td>\n",
       "      <td>\"This film is a complete mess. The characters ...</td>\n",
       "      <td>fr</td>\n",
       "      <td>NEGATIVE</td>\n",
       "      <td>0.999814</td>\n",
       "    </tr>\n",
       "    <tr>\n",
       "      <th>22</th>\n",
       "      <td>Y tu mamá también</td>\n",
       "      <td>2001</td>\n",
       "      <td>Two teenage friends (Gael García Bernal and Di...</td>\n",
       "      <td>\"And your mom is also a movie that stays with ...</td>\n",
       "      <td>sp</td>\n",
       "      <td>POSITIVE</td>\n",
       "      <td>0.999874</td>\n",
       "    </tr>\n",
       "    <tr>\n",
       "      <th>13</th>\n",
       "      <td>Les Choristes</td>\n",
       "      <td>2004</td>\n",
       "      <td>This film tells the story of a music teacher w...</td>\n",
       "      <td>\"The Choristes are a beautiful film that will ...</td>\n",
       "      <td>fr</td>\n",
       "      <td>POSITIVE</td>\n",
       "      <td>0.999893</td>\n",
       "    </tr>\n",
       "  </tbody>\n",
       "</table>\n",
       "</div>"
      ],
      "text/plain": [
       "                      Title  Year  \\\n",
       "3            The Godfather   1972   \n",
       "2              Forrest Gump  1994   \n",
       "29             El Incidente  2014   \n",
       "8   Solo: A Star Wars Story  2018   \n",
       "4                 Inception  2010   \n",
       "5         Blade Runner 2049  2017   \n",
       "23   El Laberinto del Fauno  2006   \n",
       "19             Babylon A.D.  2008   \n",
       "22        Y tu mamá también  2001   \n",
       "13            Les Choristes  2004   \n",
       "\n",
       "                                             Synopsis  \\\n",
       "3   Don Vito Corleone (Marlon Brando) is the head ...   \n",
       "2   Forrest Gump (Tom Hanks) is a simple man with ...   \n",
       "29  In this Mexican horror film, a group of people...   \n",
       "8   A young Han Solo (Alden Ehrenreich) joins a gr...   \n",
       "4   Dom Cobb (Leonardo DiCaprio) is a skilled thie...   \n",
       "5   Officer K (Ryan Gosling), a new blade runner f...   \n",
       "23  During the Spanish postwar period, Ofelia (Iva...   \n",
       "19  In the distant future, a mercenary has to esco...   \n",
       "22  Two teenage friends (Gael García Bernal and Di...   \n",
       "13  This film tells the story of a music teacher w...   \n",
       "\n",
       "                                               Review Original Language  \\\n",
       "3   \"The Godfather is a classic movie that stands ...               eng   \n",
       "2   \"Forrest Gump is a heartwarming and inspiratio...               eng   \n",
       "29  \"The Incident is a boring and frightless film ...                sp   \n",
       "8   \"Dull and pointless, with none of the magic of...               eng   \n",
       "4   \"Inception is a mind-bending and visually stun...               eng   \n",
       "5   \"Boring and too long. Nothing like the origina...               eng   \n",
       "23  \"The Labyrinth of Fauno is a fascinating and e...                sp   \n",
       "19  \"This film is a complete mess. The characters ...                fr   \n",
       "22  \"And your mom is also a movie that stays with ...                sp   \n",
       "13  \"The Choristes are a beautiful film that will ...                fr   \n",
       "\n",
       "       label     score  \n",
       "3   POSITIVE  0.999884  \n",
       "2   POSITIVE  0.999885  \n",
       "29  NEGATIVE  0.999810  \n",
       "8   NEGATIVE  0.999799  \n",
       "4   POSITIVE  0.999885  \n",
       "5   NEGATIVE  0.999675  \n",
       "23  POSITIVE  0.999874  \n",
       "19  NEGATIVE  0.999814  \n",
       "22  POSITIVE  0.999874  \n",
       "13  POSITIVE  0.999893  "
      ]
     },
     "execution_count": 12,
     "metadata": {},
     "output_type": "execute_result"
    }
   ],
   "source": [
    "df.sample(10)"
   ]
  },
  {
   "cell_type": "code",
   "execution_count": 39,
   "metadata": {},
   "outputs": [],
   "source": [
    "# export the results to a .csv file\n",
    "#df.to_csv(\"result/reviews_with_sentiment.csv\", index=False)"
   ]
  }
 ],
 "metadata": {
  "kernelspec": {
   "display_name": "Python 3",
   "language": "python",
   "name": "python3"
  },
  "language_info": {
   "codemirror_mode": {
    "name": "ipython",
    "version": 3
   },
   "file_extension": ".py",
   "mimetype": "text/x-python",
   "name": "python",
   "nbconvert_exporter": "python",
   "pygments_lexer": "ipython3",
   "version": "3.10.9"
  }
 },
 "nbformat": 4,
 "nbformat_minor": 1
}
